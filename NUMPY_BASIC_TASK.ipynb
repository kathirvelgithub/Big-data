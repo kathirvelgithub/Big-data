{
  "cells": [
    {
      "cell_type": "markdown",
      "metadata": {
        "id": "view-in-github",
        "colab_type": "text"
      },
      "source": [
        "<a href=\"https://colab.research.google.com/github/kathirvelgithub/Big-data/blob/main/NUMPY_BASIC_TASK.ipynb\" target=\"_parent\"><img src=\"https://colab.research.google.com/assets/colab-badge.svg\" alt=\"Open In Colab\"/></a>"
      ]
    },
    {
      "cell_type": "markdown",
      "source": [
        "NUMPY BASICES"
      ],
      "metadata": {
        "id": "rChNa0PbPD1H"
      }
    },
    {
      "cell_type": "code",
      "execution_count": null,
      "metadata": {
        "id": "CnizX4xr-l0W"
      },
      "outputs": [],
      "source": [
        "#import Numpy library\n",
        "import numpy as np"
      ]
    },
    {
      "cell_type": "markdown",
      "source": [
        "create 1,2,3 dimentional arrays"
      ],
      "metadata": {
        "id": "7WFnyffDPMsL"
      }
    },
    {
      "cell_type": "code",
      "execution_count": null,
      "metadata": {
        "colab": {
          "base_uri": "https://localhost:8080/"
        },
        "id": "RcfUaevOlbHh",
        "outputId": "74dac651-f2b5-4862-d1a3-f39450afe4fc"
      },
      "outputs": [
        {
          "output_type": "stream",
          "name": "stdout",
          "text": [
            "[1 2 3 4 5 6]\n"
          ]
        },
        {
          "output_type": "execute_result",
          "data": {
            "text/plain": [
              "array([ 1,  2,  3,  4,  5,  6, 97, 98, 99])"
            ]
          },
          "metadata": {},
          "execution_count": 24
        }
      ],
      "source": [
        "a=np.array([1,2,3])       #create one dimentional array\n",
        "b=np.array([4,5,6])       #create two dimentional array\n",
        "c=np.array([97,98,99])   #create three dimentional arrays\n",
        "print(np. concatenate([a, b]))#CONCADENATE 2 ARRAYS\n",
        "np. concatenate([a, b, c]) #CONCADENATE  3 ARRAYS"
      ]
    },
    {
      "cell_type": "code",
      "execution_count": null,
      "metadata": {
        "colab": {
          "base_uri": "https://localhost:8080/"
        },
        "id": "6fYx7hpop-Dm",
        "outputId": "3b851b50-80cf-434c-9b90-57eb82fe8c61"
      },
      "outputs": [
        {
          "output_type": "stream",
          "name": "stdout",
          "text": [
            "[ 5 10 15]\n"
          ]
        }
      ],
      "source": [
        "import numpy as np\n",
        "a = np.array([5,10,15])  #create one dimentional array\n",
        "print(a)"
      ]
    },
    {
      "cell_type": "code",
      "execution_count": null,
      "metadata": {
        "colab": {
          "base_uri": "https://localhost:8080/"
        },
        "id": "gIWLe0ABqaH0",
        "outputId": "b47846f0-eb1a-4826-e2c9-7db283a4474e"
      },
      "outputs": [
        {
          "output_type": "stream",
          "name": "stdout",
          "text": [
            "[[9 8 7]\n",
            " [4 5 6]]\n"
          ]
        }
      ],
      "source": [
        "import numpy as np\n",
        "b = np.array([(9,8,7), (4,5,6)], dtype = int)          #create two dimentional arrays\n",
        "print(b)"
      ]
    },
    {
      "cell_type": "code",
      "execution_count": null,
      "metadata": {
        "colab": {
          "base_uri": "https://localhost:8080/"
        },
        "id": "t0q7O_J3q6h9",
        "outputId": "db43d0b9-fbfa-4702-aded-7a9dfb38fd50"
      },
      "outputs": [
        {
          "output_type": "stream",
          "name": "stdout",
          "text": [
            "[[[ 1.5  2.5  3.5]\n",
            "  [ 4.5  5.5  6.5]]\n",
            "\n",
            " [[ 7.5  8.5  9.5]\n",
            "  [10.5 11.5 12.5]]]\n"
          ]
        }
      ],
      "source": [
        "import numpy as np\n",
        "c = np.array([[(1.5,2.5,3.5), (4.5,5.5,6.5)], [(7.5,8.5,9.5), (10.5,11.5,12.5)]],dtype = float)       #create three dimentional arrays\n",
        "print(c)"
      ]
    },
    {
      "cell_type": "code",
      "execution_count": null,
      "metadata": {
        "colab": {
          "base_uri": "https://localhost:8080/"
        },
        "id": "TbmWGqgLr_0a",
        "outputId": "d4f01fc1-83ab-42df-ef27-797bec4d353c"
      },
      "outputs": [
        {
          "output_type": "execute_result",
          "data": {
            "text/plain": [
              "array([[0., 0., 0.],\n",
              "       [0., 0., 0.],\n",
              "       [0., 0., 0.]])"
            ]
          },
          "metadata": {},
          "execution_count": 7
        }
      ],
      "source": [
        "import numpy as np\n",
        "np.zeros((3,3))     #create zerows of array"
      ]
    },
    {
      "cell_type": "code",
      "execution_count": null,
      "metadata": {
        "colab": {
          "base_uri": "https://localhost:8080/"
        },
        "id": "_DChOIp9sdFY",
        "outputId": "ddf3ef79-550a-4076-f539-b46a8f632782"
      },
      "outputs": [
        {
          "output_type": "execute_result",
          "data": {
            "text/plain": [
              "array([[1, 1, 1, 1],\n",
              "       [1, 1, 1, 1]], dtype=int16)"
            ]
          },
          "metadata": {},
          "execution_count": 8
        }
      ],
      "source": [
        "import numpy as np\n",
        "np.ones((2,4),dtype=np.int16)      #create ones of arrays"
      ]
    },
    {
      "cell_type": "code",
      "execution_count": null,
      "metadata": {
        "colab": {
          "base_uri": "https://localhost:8080/"
        },
        "id": "ETWMMYu3lfYP",
        "outputId": "0c65ff79-33d2-42a9-a90e-0dcd03e74c28"
      },
      "outputs": [
        {
          "output_type": "stream",
          "name": "stdout",
          "text": [
            "[1 2 3] [4 5 6] [7 8 9]\n"
          ]
        }
      ],
      "source": [
        "x5=[1,2,3,4,5,6,7,8,9]\n",
        "p, q, r=np.split(x5, [3, 6])     #spilt the array\n",
        "print(p, q, r)"
      ]
    },
    {
      "cell_type": "code",
      "execution_count": null,
      "metadata": {
        "colab": {
          "base_uri": "https://localhost:8080/"
        },
        "id": "dHcAxL9SliTu",
        "outputId": "d10547fe-2fb3-4394-889c-dee913751e6b"
      },
      "outputs": [
        {
          "output_type": "stream",
          "name": "stdout",
          "text": [
            "[[0 1 2 3]\n",
            " [4 5 6 7]]\n",
            "[[ 8  9 10 11]\n",
            " [12 13 14 15]]\n",
            "[[ 0  1]\n",
            " [ 4  5]\n",
            " [ 8  9]\n",
            " [12 13]]\n",
            "[[ 2  3]\n",
            " [ 6  7]\n",
            " [10 11]\n",
            " [14 15]]\n"
          ]
        }
      ],
      "source": [
        "grid=np.arange(16). reshape((4, 4))   #reshape the array\n",
        "upper, lower = np.vsplit(grid,[2])\n",
        "left, right=np.hsplit(grid, [2])\n",
        "print(upper)\n",
        "print(lower)\n",
        "print(left)\n",
        "print(right)"
      ]
    },
    {
      "cell_type": "code",
      "execution_count": null,
      "metadata": {
        "colab": {
          "base_uri": "https://localhost:8080/"
        },
        "id": "x_dth6g1nbwE",
        "outputId": "64c0770f-6486-4359-da25-20af399513c2"
      },
      "outputs": [
        {
          "output_type": "stream",
          "name": "stdout",
          "text": [
            "[ 0  1  2  3  4  5  6  7  8  9 10 11 12 13 14 15 16 17 18 19]\n",
            "[15 16 17]\n",
            "[1 2 3 4 5 6 7 8 9]\n",
            "[ 5  8 11 14 17]\n",
            "[19 11  3]\n"
          ]
        }
      ],
      "source": [
        "x=np.arange(20)  #arange element below 20\n",
        "print(x)\n",
        "print(x[15: 18])\n",
        "print(x[1: 10])\n",
        "print(x[5:: 3])\n",
        "print(x[ :: -8])"
      ]
    },
    {
      "cell_type": "code",
      "execution_count": null,
      "metadata": {
        "colab": {
          "base_uri": "https://localhost:8080/"
        },
        "id": "TFgprf5FlXW1",
        "outputId": "1f8c66a6-082e-4b30-bb3f-b269b8bc17fa"
      },
      "outputs": [
        {
          "output_type": "stream",
          "name": "stdout",
          "text": [
            "[[12 15 21]\n",
            " [ 0  3 27]\n",
            " [ 3  7  9]]\n"
          ]
        }
      ],
      "source": [
        "import numpy as np\n",
        "np.random.seed(0)\n",
        "x2 = np.random.randint(30, size=(3, 3))  #random element below 30\n",
        "print(x2)"
      ]
    },
    {
      "cell_type": "code",
      "execution_count": null,
      "metadata": {
        "colab": {
          "base_uri": "https://localhost:8080/"
        },
        "id": "DomqzNPgtARt",
        "outputId": "fae32f4b-e8b6-4187-aa27-ae1faeaaf4eb"
      },
      "outputs": [
        {
          "output_type": "stream",
          "name": "stdout",
          "text": [
            "[10 12 14 16 18]\n"
          ]
        }
      ],
      "source": [
        "import numpy as np\n",
        "d = np.arange(10,20,2)  #create an array 10 to 20 the range of 2\n",
        "print(d)"
      ]
    },
    {
      "cell_type": "code",
      "execution_count": null,
      "metadata": {
        "colab": {
          "base_uri": "https://localhost:8080/"
        },
        "id": "R15iugsHteoN",
        "outputId": "51cf4f3f-5516-4218-a229-78d2568a72b1"
      },
      "outputs": [
        {
          "output_type": "stream",
          "name": "stdout",
          "text": [
            "[[7 7]\n",
            " [7 7]]\n"
          ]
        }
      ],
      "source": [
        "import numpy as np\n",
        "e = np.full((2,2),7)  #fill the perticular element in full array\n",
        "print(e)"
      ]
    },
    {
      "cell_type": "code",
      "execution_count": null,
      "metadata": {
        "colab": {
          "base_uri": "https://localhost:8080/"
        },
        "id": "PRPqtj9fu8aN",
        "outputId": "d8ffc40e-70b1-4b4b-d839-b8f75e34a36c"
      },
      "outputs": [
        {
          "output_type": "stream",
          "name": "stdout",
          "text": [
            "[[4.4e-323 4.0e-323]\n",
            " [3.5e-323 2.0e-323]\n",
            " [2.5e-323 3.0e-323]]\n"
          ]
        }
      ],
      "source": [
        "import numpy as np\n",
        "a=np.empty((3,2))   #create an empty array\n",
        "print(a)"
      ]
    },
    {
      "cell_type": "code",
      "execution_count": null,
      "metadata": {
        "colab": {
          "base_uri": "https://localhost:8080/"
        },
        "id": "E4uAeq8al5f1",
        "outputId": "dd403d3d-80c2-4c8b-de2d-384f7dcfcda3"
      },
      "outputs": [
        {
          "output_type": "stream",
          "name": "stdout",
          "text": [
            "x3 ndim: 3\n",
            "x3 shape: (1, 2, 3)\n",
            "x3 size: 6\n",
            "x3 dtype: int64\n",
            "itemsize: 8 bytes\n",
            "nbytes: 48 bytes\n"
          ]
        }
      ],
      "source": [
        "import numpy as np\n",
        "np.random.seed(0)\n",
        "x3 = np.random.randint(50, size=(1,2,3))\n",
        "print(\"x3 ndim:\", x3. ndim)     #dimention of an array\n",
        "print(\"x3 shape:\", x3. shape)     #shape of an array\n",
        "print(\"x3 size:\" , x3. size)     #size of an array\n",
        "print(\"x3 dtype:\", x3. dtype)     #data type of an array\n",
        "print(\"itemsize:\", x3.itemsize, \"bytes\")\n",
        "print(\"nbytes:\", x3.nbytes, \"bytes\")"
      ]
    },
    {
      "cell_type": "code",
      "execution_count": null,
      "metadata": {
        "colab": {
          "base_uri": "https://localhost:8080/"
        },
        "id": "cK7wcZPcu9oa",
        "outputId": "b467c6ae-b87f-4107-f7a6-5ae6ded71af3"
      },
      "outputs": [
        {
          "output_type": "execute_result",
          "data": {
            "text/plain": [
              "array([[0.4236548 , 0.64589411],\n",
              "       [0.43758721, 0.891773  ]])"
            ]
          },
          "metadata": {},
          "execution_count": 19
        }
      ],
      "source": [
        "import numpy as np\n",
        "np.random.random((2,2))  #random element"
      ]
    },
    {
      "cell_type": "code",
      "execution_count": null,
      "metadata": {
        "colab": {
          "base_uri": "https://localhost:8080/"
        },
        "id": "TNGeiv4cwX_O",
        "outputId": "03a22fdf-ba87-422e-9078-d4407fbd594e"
      },
      "outputs": [
        {
          "output_type": "execute_result",
          "data": {
            "text/plain": [
              "array([ 5., 50.])"
            ]
          },
          "metadata": {},
          "execution_count": 30
        }
      ],
      "source": [
        "import numpy as np\n",
        "np.linspace(5,50,2)"
      ]
    },
    {
      "cell_type": "code",
      "execution_count": null,
      "metadata": {
        "colab": {
          "base_uri": "https://localhost:8080/"
        },
        "id": "7bkI1RfxeMTP",
        "outputId": "1af4b2da-843c-4476-f9b9-8de7c2b816ba"
      },
      "outputs": [
        {
          "output_type": "stream",
          "name": "stdout",
          "text": [
            "[12 15  0  3  3  7]\n"
          ]
        }
      ],
      "source": [
        "import numpy as np\n",
        "np.random.seed(0)\n",
        "\n",
        "x1 = np.random.randint(20, size=6)\n",
        "print(x1)"
      ]
    },
    {
      "cell_type": "code",
      "execution_count": null,
      "metadata": {
        "colab": {
          "base_uri": "https://localhost:8080/"
        },
        "id": "3ITCaSGol4s7",
        "outputId": "1ba6d426-b08f-48f9-a6a1-bc6a1361032c"
      },
      "outputs": [
        {
          "output_type": "stream",
          "name": "stdout",
          "text": [
            "[[[ 0  3  3]\n",
            "  [39  9 19]\n",
            "  [21 36 23]]\n",
            "\n",
            " [[ 6 24 24]\n",
            "  [12  1 38]\n",
            "  [39 23 24]]\n",
            "\n",
            " [[17 37 25]\n",
            "  [13  8  9]\n",
            "  [20 16  5]]]\n"
          ]
        }
      ],
      "source": [
        "import numpy as np\n",
        "np.random.seed(0)\n",
        "x3 = np.random.randint(40, size=(3, 3, 3))\n",
        "print(x3)"
      ]
    },
    {
      "cell_type": "markdown",
      "source": [
        "NUMPY MATHEMATICAL FUNCTIONS"
      ],
      "metadata": {
        "id": "LS9f0TzjV0XP"
      }
    },
    {
      "cell_type": "code",
      "source": [
        "a=np.array(([7,4,3], [8,11,6]) )\n",
        "print(a)"
      ],
      "metadata": {
        "colab": {
          "base_uri": "https://localhost:8080/"
        },
        "id": "TGHqZRNWV4mr",
        "outputId": "c083e08c-1ef7-49da-f983-3b2d7b2e23ae"
      },
      "execution_count": null,
      "outputs": [
        {
          "output_type": "stream",
          "name": "stdout",
          "text": [
            "[[ 7  4  3]\n",
            " [ 8 11  6]]\n"
          ]
        }
      ]
    },
    {
      "cell_type": "code",
      "source": [
        "print(\"sum is\",np.sum(a) )  #sum of array\n",
        "print(\"mean is\",np.mean(a) )  #mean of array\n",
        "print(\"median is\",np.median(a) )  #median of array\n",
        "print(\"std is\",np.std(a) )  #std of array\n",
        "print(\"min is\",np.min(a) )  #min of array\n",
        "print(\"max is\",np.max(a) )  #max of array\n",
        "print(\"sort is\",np.sort(a) )   #sorting in array"
      ],
      "metadata": {
        "colab": {
          "base_uri": "https://localhost:8080/"
        },
        "id": "aB_ZX7AHV-js",
        "outputId": "e6c0026c-cd17-477b-c8d7-09175a38caf9"
      },
      "execution_count": null,
      "outputs": [
        {
          "output_type": "stream",
          "name": "stdout",
          "text": [
            "sum is 39\n",
            "mean is 6.5\n",
            "median is 6.5\n",
            "std is 2.6299556396765835\n",
            "min is 3\n",
            "max is 11\n",
            "sort is [[ 3  4  7]\n",
            " [ 6  8 11]]\n"
          ]
        }
      ]
    },
    {
      "cell_type": "markdown",
      "source": [
        "TRIGONOMETRY FUNCTIONS"
      ],
      "metadata": {
        "id": "fvqASORwW2Un"
      }
    },
    {
      "cell_type": "code",
      "source": [
        "print(\"sin is\",np.sin(a) )  #sin of an array\n",
        "print(\"cos is\",np.cos(a) )  #cos of an array\n",
        "print(\"tan is\",np.tan(a) )  #tan of an array"
      ],
      "metadata": {
        "colab": {
          "base_uri": "https://localhost:8080/"
        },
        "id": "J6RF2s3IW6p_",
        "outputId": "ebe0c362-0790-44b5-be86-66233175738a"
      },
      "execution_count": null,
      "outputs": [
        {
          "output_type": "stream",
          "name": "stdout",
          "text": [
            "sin is [[ 0.6569866  -0.7568025   0.14112001]\n",
            " [ 0.98935825 -0.99999021 -0.2794155 ]]\n",
            "cos is [[ 0.75390225 -0.65364362 -0.9899925 ]\n",
            " [-0.14550003  0.0044257   0.96017029]]\n",
            "tan is [[ 8.71447983e-01  1.15782128e+00 -1.42546543e-01]\n",
            " [-6.79971146e+00 -2.25950846e+02 -2.91006191e-01]]\n"
          ]
        }
      ]
    },
    {
      "cell_type": "code",
      "source": [
        "print(np.arcsin(a) )    #arcsin of an array\n",
        "print(np.arccos(a) )    #arccos of an array\n",
        "print(np.arctan(a) )  #arctan of an array"
      ],
      "metadata": {
        "colab": {
          "base_uri": "https://localhost:8080/"
        },
        "id": "ux6om-sSXQDf",
        "outputId": "4f6b166f-226b-40fc-a61e-055eccc4df17"
      },
      "execution_count": null,
      "outputs": [
        {
          "output_type": "stream",
          "name": "stdout",
          "text": [
            "[[nan nan nan]\n",
            " [nan nan nan]]\n",
            "[[nan nan nan]\n",
            " [nan nan nan]]\n",
            "[[1.42889927 1.32581766 1.24904577]\n",
            " [1.44644133 1.48013644 1.40564765]]\n"
          ]
        },
        {
          "output_type": "stream",
          "name": "stderr",
          "text": [
            "<ipython-input-34-31da5842de1f>:1: RuntimeWarning: invalid value encountered in arcsin\n",
            "  print(np.arcsin(a) )    #arcsin of an array\n",
            "<ipython-input-34-31da5842de1f>:2: RuntimeWarning: invalid value encountered in arccos\n",
            "  print(np.arccos(a) )    #arccos of an array\n"
          ]
        }
      ]
    },
    {
      "cell_type": "markdown",
      "source": [
        "RANDOM FUNCTIONS"
      ],
      "metadata": {
        "id": "ciXFi_a0Xlaw"
      }
    },
    {
      "cell_type": "code",
      "source": [
        "print(np.random.rand())\n",
        "print(np.random.randn())\n",
        "print(np.random.randint(5))\n",
        "print(np.random.shuffle([4,8,12,15]))"
      ],
      "metadata": {
        "colab": {
          "base_uri": "https://localhost:8080/"
        },
        "id": "dS04U340XrfF",
        "outputId": "6782c931-4bd7-4458-fab7-3bed2b2cff13"
      },
      "execution_count": null,
      "outputs": [
        {
          "output_type": "stream",
          "name": "stdout",
          "text": [
            "0.4236547993389047\n",
            "-0.8427240538292873\n",
            "0\n",
            "None\n"
          ]
        }
      ]
    },
    {
      "cell_type": "markdown",
      "source": [
        "array operator"
      ],
      "metadata": {
        "id": "NNbm0kEMfMqg"
      }
    },
    {
      "cell_type": "code",
      "source": [
        "import numpy as np\n",
        "f = np.array([(9,8,7), (4,5,6)], dtype = int)\n",
        "g = np.array([(1,2,3), (3,5,8)], dtype = int)\n",
        "print(np.add(f,g))  #add the array element\n",
        "print(np.subtract(f,g)  )#subtract the array element\n",
        "print(np.multiply(f,g))  #multiply the array element\n",
        "print(np.divide(f,g))  #divide the array element"
      ],
      "metadata": {
        "colab": {
          "base_uri": "https://localhost:8080/"
        },
        "id": "zW1BAmDyfPXp",
        "outputId": "7fb895d3-8fe5-4f44-d45c-4225137db301"
      },
      "execution_count": null,
      "outputs": [
        {
          "output_type": "stream",
          "name": "stdout",
          "text": [
            "[[10 10 10]\n",
            " [ 7 10 14]]\n",
            "[[ 8  6  4]\n",
            " [ 1  0 -2]]\n",
            "[[ 9 16 21]\n",
            " [12 25 48]]\n",
            "[[9.         4.         2.33333333]\n",
            " [1.33333333 1.         0.75      ]]\n"
          ]
        }
      ]
    }
  ],
  "metadata": {
    "colab": {
      "provenance": [],
      "authorship_tag": "ABX9TyMnTL66e52PEM4IZKBSnYyX",
      "include_colab_link": true
    },
    "kernelspec": {
      "display_name": "Python 3",
      "name": "python3"
    },
    "language_info": {
      "name": "python"
    }
  },
  "nbformat": 4,
  "nbformat_minor": 0
}